{
 "cells": [
  {
   "cell_type": "markdown",
   "metadata": {},
   "source": [
    "# PROJECT. Оценка эффективности новой фичи"
   ]
  },
  {
   "cell_type": "markdown",
   "metadata": {},
   "source": [
    "### Для понимания эффективности новой фичи нужно:\n",
    "### 1. Посчитать показатели Retention Rate седьмого дня и ARPPU за два периода: до и после внедрения фичи.\n",
    "### 2. Сформировать выводы по анализу.\n"
   ]
  },
  {
   "cell_type": "code",
   "execution_count": 47,
   "metadata": {},
   "outputs": [
    {
     "name": "stdout",
     "output_type": "stream",
     "text": [
      "Requirement already satisfied: psycopg2 in /Users/stanislavradin/opt/anaconda3/lib/python3.8/site-packages (2.9.1)\r\n"
     ]
    }
   ],
   "source": [
    "# Загружаем необходимые библиотеки\n",
    "! pip install psycopg2\n",
    "%matplotlib inline\n",
    "import pandas as pd\n",
    "import numpy as np\n",
    "import psycopg2\n",
    "import psycopg2.extras "
   ]
  },
  {
   "cell_type": "code",
   "execution_count": 48,
   "metadata": {},
   "outputs": [],
   "source": [
    "# Получаем данные из базы по количеству зарегистрированных и активных пользователей,\n",
    "# приводим дату в нужный формат\n",
    "def getRegisteredUsersCount():\n",
    "    query = '''SELECT r.registration_date, count(distinct(r.user_id)) as registered_users_count\n",
    "    FROM case9.registration r\n",
    "    WHERE r.registration_date >= '2019-05-01' and r.registration_date < '2019-07-01'\n",
    "    GROUP BY 1\n",
    "    '''.format()\n",
    "    conn = psycopg2.connect(\"dbname='skillfactory' user='skillfactory' host='84.201.134.129' password='cCkxxLVrDE8EbvjueeMedPKt' port=5432\")\n",
    "    dict_cur = conn.cursor(cursor_factory=psycopg2.extras.DictCursor)\n",
    "    dict_cur.execute(query)\n",
    "    rows = dict_cur.fetchall()\n",
    "    data = []\n",
    "    for row in rows:\n",
    "        data.append(dict(row))\n",
    "    return data\n",
    "\n",
    "registered_users_count = pd.DataFrame(getRegisteredUsersCount())\n",
    "registered_users_count['registration_date'] = pd.to_datetime(registered_users_count['registration_date'])\n",
    "\n",
    "def getActiveUsersCountWithCohorts():\n",
    "    query = '''SELECT ac.activity_date, r.registration_date, count(distinct(ac.user_id)) as active_users_count\n",
    "    FROM case9.user_activity ac\n",
    "    LEFT JOIN case9.registration r ON r.user_id = ac.user_id\n",
    "    WHERE r.registration_date >= '2019-05-01' and r.registration_date < '2019-07-01'\n",
    "    GROUP BY 1,2\n",
    "    '''.format()\n",
    "    conn = psycopg2.connect(\"dbname='skillfactory' user='skillfactory' host='84.201.134.129' password='cCkxxLVrDE8EbvjueeMedPKt' port=5432\")\n",
    "    dict_cur = conn.cursor(cursor_factory=psycopg2.extras.DictCursor)\n",
    "    dict_cur.execute(query)\n",
    "    rows = dict_cur.fetchall()\n",
    "    data = []\n",
    "    for row in rows:\n",
    "        data.append(dict(row))\n",
    "    return data\n",
    "\n",
    "active_users_count_with_cohorts = pd.DataFrame(getActiveUsersCountWithCohorts())\n",
    "for col in ['activity_date','registration_date']:\n",
    "    active_users_count_with_cohorts[col] = pd.to_datetime(active_users_count_with_cohorts[col])"
   ]
  },
  {
   "cell_type": "code",
   "execution_count": 49,
   "metadata": {},
   "outputs": [],
   "source": [
    "# Соединяем две таблицы\n",
    "retention_table = registered_users_count.merge(active_users_count_with_cohorts, on = 'registration_date', how = 'left')"
   ]
  },
  {
   "cell_type": "code",
   "execution_count": 50,
   "metadata": {},
   "outputs": [
    {
     "data": {
      "text/html": [
       "<div>\n",
       "<style scoped>\n",
       "    .dataframe tbody tr th:only-of-type {\n",
       "        vertical-align: middle;\n",
       "    }\n",
       "\n",
       "    .dataframe tbody tr th {\n",
       "        vertical-align: top;\n",
       "    }\n",
       "\n",
       "    .dataframe thead th {\n",
       "        text-align: right;\n",
       "    }\n",
       "</style>\n",
       "<table border=\"1\" class=\"dataframe\">\n",
       "  <thead>\n",
       "    <tr style=\"text-align: right;\">\n",
       "      <th></th>\n",
       "      <th>registration_date</th>\n",
       "      <th>registered_users_count</th>\n",
       "      <th>activity_date</th>\n",
       "      <th>active_users_count</th>\n",
       "    </tr>\n",
       "  </thead>\n",
       "  <tbody>\n",
       "    <tr>\n",
       "      <th>0</th>\n",
       "      <td>2019-05-01</td>\n",
       "      <td>6516</td>\n",
       "      <td>2019-05-01</td>\n",
       "      <td>2590</td>\n",
       "    </tr>\n",
       "    <tr>\n",
       "      <th>1</th>\n",
       "      <td>2019-05-01</td>\n",
       "      <td>6516</td>\n",
       "      <td>2019-05-02</td>\n",
       "      <td>2146</td>\n",
       "    </tr>\n",
       "    <tr>\n",
       "      <th>2</th>\n",
       "      <td>2019-05-01</td>\n",
       "      <td>6516</td>\n",
       "      <td>2019-05-03</td>\n",
       "      <td>1637</td>\n",
       "    </tr>\n",
       "    <tr>\n",
       "      <th>3</th>\n",
       "      <td>2019-05-01</td>\n",
       "      <td>6516</td>\n",
       "      <td>2019-05-04</td>\n",
       "      <td>1451</td>\n",
       "    </tr>\n",
       "    <tr>\n",
       "      <th>4</th>\n",
       "      <td>2019-05-01</td>\n",
       "      <td>6516</td>\n",
       "      <td>2019-05-05</td>\n",
       "      <td>1296</td>\n",
       "    </tr>\n",
       "  </tbody>\n",
       "</table>\n",
       "</div>"
      ],
      "text/plain": [
       "  registration_date  registered_users_count activity_date  active_users_count\n",
       "0        2019-05-01                    6516    2019-05-01                2590\n",
       "1        2019-05-01                    6516    2019-05-02                2146\n",
       "2        2019-05-01                    6516    2019-05-03                1637\n",
       "3        2019-05-01                    6516    2019-05-04                1451\n",
       "4        2019-05-01                    6516    2019-05-05                1296"
      ]
     },
     "execution_count": 50,
     "metadata": {},
     "output_type": "execute_result"
    }
   ],
   "source": [
    "retention_table.head()"
   ]
  },
  {
   "cell_type": "code",
   "execution_count": 62,
   "metadata": {},
   "outputs": [
    {
     "data": {
      "text/html": [
       "<div>\n",
       "<style scoped>\n",
       "    .dataframe tbody tr th:only-of-type {\n",
       "        vertical-align: middle;\n",
       "    }\n",
       "\n",
       "    .dataframe tbody tr th {\n",
       "        vertical-align: top;\n",
       "    }\n",
       "\n",
       "    .dataframe thead th {\n",
       "        text-align: right;\n",
       "    }\n",
       "</style>\n",
       "<table border=\"1\" class=\"dataframe\">\n",
       "  <thead>\n",
       "    <tr style=\"text-align: right;\">\n",
       "      <th></th>\n",
       "      <th>registration_date</th>\n",
       "      <th>registered_users_count</th>\n",
       "      <th>activity_date</th>\n",
       "      <th>active_users_count</th>\n",
       "      <th>lifetime</th>\n",
       "    </tr>\n",
       "  </thead>\n",
       "  <tbody>\n",
       "    <tr>\n",
       "      <th>0</th>\n",
       "      <td>2019-05-01</td>\n",
       "      <td>6516</td>\n",
       "      <td>2019-05-01</td>\n",
       "      <td>2590</td>\n",
       "      <td>0</td>\n",
       "    </tr>\n",
       "    <tr>\n",
       "      <th>1</th>\n",
       "      <td>2019-05-01</td>\n",
       "      <td>6516</td>\n",
       "      <td>2019-05-02</td>\n",
       "      <td>2146</td>\n",
       "      <td>1</td>\n",
       "    </tr>\n",
       "    <tr>\n",
       "      <th>2</th>\n",
       "      <td>2019-05-01</td>\n",
       "      <td>6516</td>\n",
       "      <td>2019-05-03</td>\n",
       "      <td>1637</td>\n",
       "      <td>2</td>\n",
       "    </tr>\n",
       "    <tr>\n",
       "      <th>3</th>\n",
       "      <td>2019-05-01</td>\n",
       "      <td>6516</td>\n",
       "      <td>2019-05-04</td>\n",
       "      <td>1451</td>\n",
       "      <td>3</td>\n",
       "    </tr>\n",
       "    <tr>\n",
       "      <th>4</th>\n",
       "      <td>2019-05-01</td>\n",
       "      <td>6516</td>\n",
       "      <td>2019-05-05</td>\n",
       "      <td>1296</td>\n",
       "      <td>4</td>\n",
       "    </tr>\n",
       "  </tbody>\n",
       "</table>\n",
       "</div>"
      ],
      "text/plain": [
       "  registration_date  registered_users_count activity_date  active_users_count  \\\n",
       "0        2019-05-01                    6516    2019-05-01                2590   \n",
       "1        2019-05-01                    6516    2019-05-02                2146   \n",
       "2        2019-05-01                    6516    2019-05-03                1637   \n",
       "3        2019-05-01                    6516    2019-05-04                1451   \n",
       "4        2019-05-01                    6516    2019-05-05                1296   \n",
       "\n",
       "   lifetime  \n",
       "0         0  \n",
       "1         1  \n",
       "2         2  \n",
       "3         3  \n",
       "4         4  "
      ]
     },
     "execution_count": 62,
     "metadata": {},
     "output_type": "execute_result"
    }
   ],
   "source": [
    "# Рассчитываем время между регистрацией и датой послденей активности пользователя, приводим к целочисленному значению\n",
    "retention_table['lifetime'] = retention_table['activity_date'] - retention_table['registration_date']\n",
    "retention_table['lifetime'] = retention_table['lifetime'] / np.timedelta64(1, 'D')\n",
    "retention_table['lifetime'] = retention_table['lifetime'].astype(int)\n",
    "retention_table.head()"
   ]
  },
  {
   "cell_type": "code",
   "execution_count": 52,
   "metadata": {},
   "outputs": [],
   "source": [
    "# Получаем данные о выручке, приводим дату в нужный формат\n",
    "def getRevenue():\n",
    "    query = '''SELECT re.date, r.registration_date, count(distinct(re.user_id)) as users_count_with_revenue, sum(re.revenue) as revenue\n",
    "    FROM case9.user_revenue re\n",
    "    LEFT JOIN case9.registration r ON r.user_id = re.user_id\n",
    "    WHERE r.registration_date >= '2019-05-01' and r.registration_date < '2019-07-01'\n",
    "    GROUP BY 1,2\n",
    "    '''.format()\n",
    "    conn = psycopg2.connect(\"dbname='skillfactory' user='skillfactory' host='84.201.134.129' password='cCkxxLVrDE8EbvjueeMedPKt' port=5432\")\n",
    "    dict_cur = conn.cursor(cursor_factory=psycopg2.extras.DictCursor)\n",
    "    dict_cur.execute(query)\n",
    "    rows = dict_cur.fetchall()\n",
    "    data = []\n",
    "    for row in rows:\n",
    "        data.append(dict(row))\n",
    "    return data\n",
    "\n",
    "revenue = pd.DataFrame(getRevenue())\n",
    "revenue = revenue.rename(columns = {'date':'activity_date'})\n",
    "for col in ['activity_date', 'registration_date']:\n",
    "    revenue[col] = pd.to_datetime(revenue[col])"
   ]
  },
  {
   "cell_type": "code",
   "execution_count": 53,
   "metadata": {},
   "outputs": [
    {
     "name": "stdout",
     "output_type": "stream",
     "text": [
      "<class 'pandas.core.frame.DataFrame'>\n",
      "Int64Index: 1891 entries, 0 to 1890\n",
      "Data columns (total 7 columns):\n",
      " #   Column                    Non-Null Count  Dtype         \n",
      "---  ------                    --------------  -----         \n",
      " 0   registration_date         1891 non-null   datetime64[ns]\n",
      " 1   registered_users_count    1891 non-null   int64         \n",
      " 2   activity_date             1891 non-null   datetime64[ns]\n",
      " 3   active_users_count        1891 non-null   int64         \n",
      " 4   lifetime                  1891 non-null   int64         \n",
      " 5   users_count_with_revenue  1745 non-null   float64       \n",
      " 6   revenue                   1745 non-null   float64       \n",
      "dtypes: datetime64[ns](2), float64(2), int64(3)\n",
      "memory usage: 118.2 KB\n"
     ]
    }
   ],
   "source": [
    "# Соединяем таблицу по выручке с таблицей о пользователях \n",
    "retention_table_with_revenue = retention_table.merge(revenue, on = ['registration_date', 'activity_date'], how = 'left')\n",
    "retention_table_with_revenue.info()"
   ]
  },
  {
   "cell_type": "code",
   "execution_count": 54,
   "metadata": {},
   "outputs": [
    {
     "data": {
      "text/html": [
       "<div>\n",
       "<style scoped>\n",
       "    .dataframe tbody tr th:only-of-type {\n",
       "        vertical-align: middle;\n",
       "    }\n",
       "\n",
       "    .dataframe tbody tr th {\n",
       "        vertical-align: top;\n",
       "    }\n",
       "\n",
       "    .dataframe thead th {\n",
       "        text-align: right;\n",
       "    }\n",
       "</style>\n",
       "<table border=\"1\" class=\"dataframe\">\n",
       "  <thead>\n",
       "    <tr style=\"text-align: right;\">\n",
       "      <th></th>\n",
       "      <th>registration_date</th>\n",
       "      <th>registered_users_count</th>\n",
       "      <th>activity_date</th>\n",
       "      <th>active_users_count</th>\n",
       "      <th>lifetime</th>\n",
       "      <th>users_count_with_revenue</th>\n",
       "      <th>revenue</th>\n",
       "    </tr>\n",
       "  </thead>\n",
       "  <tbody>\n",
       "    <tr>\n",
       "      <th>0</th>\n",
       "      <td>2019-05-01</td>\n",
       "      <td>6516</td>\n",
       "      <td>2019-05-01</td>\n",
       "      <td>2590</td>\n",
       "      <td>0</td>\n",
       "      <td>1672</td>\n",
       "      <td>2357.58000</td>\n",
       "    </tr>\n",
       "    <tr>\n",
       "      <th>1</th>\n",
       "      <td>2019-05-01</td>\n",
       "      <td>6516</td>\n",
       "      <td>2019-05-02</td>\n",
       "      <td>2146</td>\n",
       "      <td>1</td>\n",
       "      <td>1420</td>\n",
       "      <td>514.67900</td>\n",
       "    </tr>\n",
       "    <tr>\n",
       "      <th>2</th>\n",
       "      <td>2019-05-01</td>\n",
       "      <td>6516</td>\n",
       "      <td>2019-05-03</td>\n",
       "      <td>1637</td>\n",
       "      <td>2</td>\n",
       "      <td>1048</td>\n",
       "      <td>390.95200</td>\n",
       "    </tr>\n",
       "    <tr>\n",
       "      <th>3</th>\n",
       "      <td>2019-05-01</td>\n",
       "      <td>6516</td>\n",
       "      <td>2019-05-04</td>\n",
       "      <td>1451</td>\n",
       "      <td>3</td>\n",
       "      <td>931</td>\n",
       "      <td>260.13600</td>\n",
       "    </tr>\n",
       "    <tr>\n",
       "      <th>4</th>\n",
       "      <td>2019-05-01</td>\n",
       "      <td>6516</td>\n",
       "      <td>2019-05-05</td>\n",
       "      <td>1296</td>\n",
       "      <td>4</td>\n",
       "      <td>835</td>\n",
       "      <td>233.09400</td>\n",
       "    </tr>\n",
       "    <tr>\n",
       "      <th>...</th>\n",
       "      <td>...</td>\n",
       "      <td>...</td>\n",
       "      <td>...</td>\n",
       "      <td>...</td>\n",
       "      <td>...</td>\n",
       "      <td>...</td>\n",
       "      <td>...</td>\n",
       "    </tr>\n",
       "    <tr>\n",
       "      <th>1886</th>\n",
       "      <td>2019-06-30</td>\n",
       "      <td>3301</td>\n",
       "      <td>2019-07-26</td>\n",
       "      <td>193</td>\n",
       "      <td>26</td>\n",
       "      <td>118</td>\n",
       "      <td>5.43194</td>\n",
       "    </tr>\n",
       "    <tr>\n",
       "      <th>1887</th>\n",
       "      <td>2019-06-30</td>\n",
       "      <td>3301</td>\n",
       "      <td>2019-07-27</td>\n",
       "      <td>186</td>\n",
       "      <td>27</td>\n",
       "      <td>0</td>\n",
       "      <td>0.00000</td>\n",
       "    </tr>\n",
       "    <tr>\n",
       "      <th>1888</th>\n",
       "      <td>2019-06-30</td>\n",
       "      <td>3301</td>\n",
       "      <td>2019-07-28</td>\n",
       "      <td>198</td>\n",
       "      <td>28</td>\n",
       "      <td>0</td>\n",
       "      <td>0.00000</td>\n",
       "    </tr>\n",
       "    <tr>\n",
       "      <th>1889</th>\n",
       "      <td>2019-06-30</td>\n",
       "      <td>3301</td>\n",
       "      <td>2019-07-29</td>\n",
       "      <td>144</td>\n",
       "      <td>29</td>\n",
       "      <td>100</td>\n",
       "      <td>10.05400</td>\n",
       "    </tr>\n",
       "    <tr>\n",
       "      <th>1890</th>\n",
       "      <td>2019-06-30</td>\n",
       "      <td>3301</td>\n",
       "      <td>2019-07-30</td>\n",
       "      <td>91</td>\n",
       "      <td>30</td>\n",
       "      <td>63</td>\n",
       "      <td>11.50500</td>\n",
       "    </tr>\n",
       "  </tbody>\n",
       "</table>\n",
       "<p>1891 rows × 7 columns</p>\n",
       "</div>"
      ],
      "text/plain": [
       "     registration_date  registered_users_count activity_date  \\\n",
       "0           2019-05-01                    6516    2019-05-01   \n",
       "1           2019-05-01                    6516    2019-05-02   \n",
       "2           2019-05-01                    6516    2019-05-03   \n",
       "3           2019-05-01                    6516    2019-05-04   \n",
       "4           2019-05-01                    6516    2019-05-05   \n",
       "...                ...                     ...           ...   \n",
       "1886        2019-06-30                    3301    2019-07-26   \n",
       "1887        2019-06-30                    3301    2019-07-27   \n",
       "1888        2019-06-30                    3301    2019-07-28   \n",
       "1889        2019-06-30                    3301    2019-07-29   \n",
       "1890        2019-06-30                    3301    2019-07-30   \n",
       "\n",
       "      active_users_count  lifetime  users_count_with_revenue     revenue  \n",
       "0                   2590         0                      1672  2357.58000  \n",
       "1                   2146         1                      1420   514.67900  \n",
       "2                   1637         2                      1048   390.95200  \n",
       "3                   1451         3                       931   260.13600  \n",
       "4                   1296         4                       835   233.09400  \n",
       "...                  ...       ...                       ...         ...  \n",
       "1886                 193        26                       118     5.43194  \n",
       "1887                 186        27                         0     0.00000  \n",
       "1888                 198        28                         0     0.00000  \n",
       "1889                 144        29                       100    10.05400  \n",
       "1890                  91        30                        63    11.50500  \n",
       "\n",
       "[1891 rows x 7 columns]"
      ]
     },
     "execution_count": 54,
     "metadata": {},
     "output_type": "execute_result"
    }
   ],
   "source": [
    "# Заполняем пропуски нулями и приводим к целочисленному формату количество пользователей с выручкой\n",
    "for col in ['users_count_with_revenue', 'revenue']:\n",
    "    retention_table_with_revenue[col] = retention_table_with_revenue[col].fillna(0)\n",
    "retention_table_with_revenue['users_count_with_revenue'] = retention_table_with_revenue['users_count_with_revenue'].astype(int)\n",
    "retention_table_with_revenue"
   ]
  },
  {
   "cell_type": "code",
   "execution_count": 55,
   "metadata": {},
   "outputs": [
    {
     "name": "stderr",
     "output_type": "stream",
     "text": [
      "<ipython-input-55-a07666d2c045>:2: UserWarning: Boolean Series key will be reindexed to match DataFrame index.\n",
      "  retention_7_table_may = retention_table_with_revenue[retention_table_with_revenue['lifetime']==7][retention_table_with_revenue['registration_date']>='2019-05-01'][retention_table_with_revenue['registration_date']<'2019-06-01']\n"
     ]
    },
    {
     "data": {
      "text/html": [
       "<div>\n",
       "<style scoped>\n",
       "    .dataframe tbody tr th:only-of-type {\n",
       "        vertical-align: middle;\n",
       "    }\n",
       "\n",
       "    .dataframe tbody tr th {\n",
       "        vertical-align: top;\n",
       "    }\n",
       "\n",
       "    .dataframe thead th {\n",
       "        text-align: right;\n",
       "    }\n",
       "</style>\n",
       "<table border=\"1\" class=\"dataframe\">\n",
       "  <thead>\n",
       "    <tr style=\"text-align: right;\">\n",
       "      <th></th>\n",
       "      <th>registration_date</th>\n",
       "      <th>registered_users_count</th>\n",
       "      <th>activity_date</th>\n",
       "      <th>active_users_count</th>\n",
       "      <th>lifetime</th>\n",
       "      <th>users_count_with_revenue</th>\n",
       "      <th>revenue</th>\n",
       "    </tr>\n",
       "  </thead>\n",
       "  <tbody>\n",
       "    <tr>\n",
       "      <th>7</th>\n",
       "      <td>2019-05-01</td>\n",
       "      <td>6516</td>\n",
       "      <td>2019-05-08</td>\n",
       "      <td>953</td>\n",
       "      <td>7</td>\n",
       "      <td>616</td>\n",
       "      <td>63.9065</td>\n",
       "    </tr>\n",
       "    <tr>\n",
       "      <th>38</th>\n",
       "      <td>2019-05-02</td>\n",
       "      <td>5309</td>\n",
       "      <td>2019-05-09</td>\n",
       "      <td>745</td>\n",
       "      <td>7</td>\n",
       "      <td>490</td>\n",
       "      <td>313.7220</td>\n",
       "    </tr>\n",
       "    <tr>\n",
       "      <th>69</th>\n",
       "      <td>2019-05-03</td>\n",
       "      <td>6266</td>\n",
       "      <td>2019-05-10</td>\n",
       "      <td>895</td>\n",
       "      <td>7</td>\n",
       "      <td>571</td>\n",
       "      <td>110.7260</td>\n",
       "    </tr>\n",
       "    <tr>\n",
       "      <th>100</th>\n",
       "      <td>2019-05-04</td>\n",
       "      <td>8639</td>\n",
       "      <td>2019-05-11</td>\n",
       "      <td>1186</td>\n",
       "      <td>7</td>\n",
       "      <td>750</td>\n",
       "      <td>124.8590</td>\n",
       "    </tr>\n",
       "    <tr>\n",
       "      <th>131</th>\n",
       "      <td>2019-05-05</td>\n",
       "      <td>9787</td>\n",
       "      <td>2019-05-12</td>\n",
       "      <td>1358</td>\n",
       "      <td>7</td>\n",
       "      <td>885</td>\n",
       "      <td>174.9240</td>\n",
       "    </tr>\n",
       "  </tbody>\n",
       "</table>\n",
       "</div>"
      ],
      "text/plain": [
       "    registration_date  registered_users_count activity_date  \\\n",
       "7          2019-05-01                    6516    2019-05-08   \n",
       "38         2019-05-02                    5309    2019-05-09   \n",
       "69         2019-05-03                    6266    2019-05-10   \n",
       "100        2019-05-04                    8639    2019-05-11   \n",
       "131        2019-05-05                    9787    2019-05-12   \n",
       "\n",
       "     active_users_count  lifetime  users_count_with_revenue   revenue  \n",
       "7                   953         7                       616   63.9065  \n",
       "38                  745         7                       490  313.7220  \n",
       "69                  895         7                       571  110.7260  \n",
       "100                1186         7                       750  124.8590  \n",
       "131                1358         7                       885  174.9240  "
      ]
     },
     "execution_count": 55,
     "metadata": {},
     "output_type": "execute_result"
    }
   ],
   "source": [
    "# Создаем таблицу для расчета коэф-та удержания 7-го дня для МАЯ\n",
    "retention_7_table_may = retention_table_with_revenue[retention_table_with_revenue['lifetime']==7][retention_table_with_revenue['registration_date']>='2019-05-01'][retention_table_with_revenue['registration_date']<'2019-06-01']\n",
    "retention_7_table_may.reset_index()\n",
    "retention_7_table_may.head()"
   ]
  },
  {
   "cell_type": "code",
   "execution_count": 56,
   "metadata": {},
   "outputs": [
    {
     "data": {
      "text/plain": [
       "0.12933000957960866"
      ]
     },
     "execution_count": 56,
     "metadata": {},
     "output_type": "execute_result"
    }
   ],
   "source": [
    "# Рассчитываем коэф. удержания для МАЯ\n",
    "retention_7_may = retention_7_table_may['active_users_count'].sum() / retention_7_table_may['registered_users_count'].sum()\n",
    "retention_7_may"
   ]
  },
  {
   "cell_type": "markdown",
   "metadata": {},
   "source": [
    "#### Коэффициент удержания 7-го дня для мая составляет 12,93%."
   ]
  },
  {
   "cell_type": "code",
   "execution_count": 57,
   "metadata": {},
   "outputs": [
    {
     "name": "stderr",
     "output_type": "stream",
     "text": [
      "<ipython-input-57-0b67db4dd381>:2: UserWarning: Boolean Series key will be reindexed to match DataFrame index.\n",
      "  retention_7_table_june = retention_table_with_revenue[retention_table_with_revenue['lifetime']==7][retention_table_with_revenue['registration_date']>='2019-06-01'][retention_table_with_revenue['registration_date']<'2019-07-01']\n"
     ]
    },
    {
     "data": {
      "text/html": [
       "<div>\n",
       "<style scoped>\n",
       "    .dataframe tbody tr th:only-of-type {\n",
       "        vertical-align: middle;\n",
       "    }\n",
       "\n",
       "    .dataframe tbody tr th {\n",
       "        vertical-align: top;\n",
       "    }\n",
       "\n",
       "    .dataframe thead th {\n",
       "        text-align: right;\n",
       "    }\n",
       "</style>\n",
       "<table border=\"1\" class=\"dataframe\">\n",
       "  <thead>\n",
       "    <tr style=\"text-align: right;\">\n",
       "      <th></th>\n",
       "      <th>registration_date</th>\n",
       "      <th>registered_users_count</th>\n",
       "      <th>activity_date</th>\n",
       "      <th>active_users_count</th>\n",
       "      <th>lifetime</th>\n",
       "      <th>users_count_with_revenue</th>\n",
       "      <th>revenue</th>\n",
       "    </tr>\n",
       "  </thead>\n",
       "  <tbody>\n",
       "    <tr>\n",
       "      <th>968</th>\n",
       "      <td>2019-06-01</td>\n",
       "      <td>4833</td>\n",
       "      <td>2019-06-08</td>\n",
       "      <td>545</td>\n",
       "      <td>7</td>\n",
       "      <td>365</td>\n",
       "      <td>176.3160</td>\n",
       "    </tr>\n",
       "    <tr>\n",
       "      <th>999</th>\n",
       "      <td>2019-06-02</td>\n",
       "      <td>5255</td>\n",
       "      <td>2019-06-09</td>\n",
       "      <td>683</td>\n",
       "      <td>7</td>\n",
       "      <td>461</td>\n",
       "      <td>193.8390</td>\n",
       "    </tr>\n",
       "    <tr>\n",
       "      <th>1030</th>\n",
       "      <td>2019-06-03</td>\n",
       "      <td>4193</td>\n",
       "      <td>2019-06-10</td>\n",
       "      <td>484</td>\n",
       "      <td>7</td>\n",
       "      <td>320</td>\n",
       "      <td>27.7548</td>\n",
       "    </tr>\n",
       "    <tr>\n",
       "      <th>1061</th>\n",
       "      <td>2019-06-04</td>\n",
       "      <td>4194</td>\n",
       "      <td>2019-06-11</td>\n",
       "      <td>511</td>\n",
       "      <td>7</td>\n",
       "      <td>320</td>\n",
       "      <td>54.9610</td>\n",
       "    </tr>\n",
       "    <tr>\n",
       "      <th>1092</th>\n",
       "      <td>2019-06-05</td>\n",
       "      <td>3998</td>\n",
       "      <td>2019-06-12</td>\n",
       "      <td>472</td>\n",
       "      <td>7</td>\n",
       "      <td>301</td>\n",
       "      <td>63.1554</td>\n",
       "    </tr>\n",
       "  </tbody>\n",
       "</table>\n",
       "</div>"
      ],
      "text/plain": [
       "     registration_date  registered_users_count activity_date  \\\n",
       "968         2019-06-01                    4833    2019-06-08   \n",
       "999         2019-06-02                    5255    2019-06-09   \n",
       "1030        2019-06-03                    4193    2019-06-10   \n",
       "1061        2019-06-04                    4194    2019-06-11   \n",
       "1092        2019-06-05                    3998    2019-06-12   \n",
       "\n",
       "      active_users_count  lifetime  users_count_with_revenue   revenue  \n",
       "968                  545         7                       365  176.3160  \n",
       "999                  683         7                       461  193.8390  \n",
       "1030                 484         7                       320   27.7548  \n",
       "1061                 511         7                       320   54.9610  \n",
       "1092                 472         7                       301   63.1554  "
      ]
     },
     "execution_count": 57,
     "metadata": {},
     "output_type": "execute_result"
    }
   ],
   "source": [
    "# Создаем таблицу для расчета коэф-та удержания 7-го дня для ИЮНЯ\n",
    "retention_7_table_june = retention_table_with_revenue[retention_table_with_revenue['lifetime']==7][retention_table_with_revenue['registration_date']>='2019-06-01'][retention_table_with_revenue['registration_date']<'2019-07-01']\n",
    "retention_7_table_june.head()"
   ]
  },
  {
   "cell_type": "code",
   "execution_count": 58,
   "metadata": {},
   "outputs": [
    {
     "data": {
      "text/plain": [
       "0.12560867530346634"
      ]
     },
     "execution_count": 58,
     "metadata": {},
     "output_type": "execute_result"
    }
   ],
   "source": [
    "# Рассчитываем коэф. удержания для ИЮНЯ\n",
    "retention_7_june = retention_7_table_june['active_users_count'].sum() / retention_7_table_june['registered_users_count'].sum()\n",
    "retention_7_june"
   ]
  },
  {
   "cell_type": "markdown",
   "metadata": {},
   "source": [
    "#### Коэффициент удержания 7-го дня для июня составляет 12,56%. Относительно мая коэффициент практически не уменьшился."
   ]
  },
  {
   "cell_type": "code",
   "execution_count": 59,
   "metadata": {},
   "outputs": [
    {
     "data": {
      "text/plain": [
       "0.3061245856847124"
      ]
     },
     "execution_count": 59,
     "metadata": {},
     "output_type": "execute_result"
    }
   ],
   "source": [
    "# Рассчитываем среднюю выручку от активного (платящего) пользователя для МАЯ\n",
    "may_arppu = retention_table_with_revenue['revenue'][retention_table_with_revenue['registration_date']>=\"2019-05-01\"][retention_table_with_revenue['registration_date']<\"2019-06-01\"].sum() / retention_table_with_revenue['users_count_with_revenue'][retention_table_with_revenue['registration_date']>=\"2019-05-01\"][retention_table_with_revenue['registration_date']<\"2019-06-01\"].sum()\n",
    "may_arppu"
   ]
  },
  {
   "cell_type": "markdown",
   "metadata": {},
   "source": [
    "#### Средняя выручка с платящего пользователя для мая составляет 0,31."
   ]
  },
  {
   "cell_type": "code",
   "execution_count": 60,
   "metadata": {},
   "outputs": [
    {
     "data": {
      "text/plain": [
       "0.3931940099426141"
      ]
     },
     "execution_count": 60,
     "metadata": {},
     "output_type": "execute_result"
    }
   ],
   "source": [
    "# Рассчитываем среднюю выручку от активного (платящего) пользователя для ИЮНЯ\n",
    "june_arppu = retention_table_with_revenue['revenue'][retention_table_with_revenue['registration_date']>=\"2019-06-01\"][retention_table_with_revenue['registration_date']<\"2019-07-01\"].sum() / retention_table_with_revenue['users_count_with_revenue'][retention_table_with_revenue['registration_date']>=\"2019-06-01\"][retention_table_with_revenue['registration_date']<\"2019-07-01\"].sum()\n",
    "june_arppu"
   ]
  },
  {
   "cell_type": "markdown",
   "metadata": {},
   "source": [
    "#### Средняя выручка с платящего пользователя для июня составляет 0,39%. Относительно мая коэффициент вырос, что говорит об эффективности внедрения фичи."
   ]
  },
  {
   "cell_type": "code",
   "execution_count": 61,
   "metadata": {},
   "outputs": [
    {
     "data": {
      "text/plain": [
       "28.442480065151422"
      ]
     },
     "execution_count": 61,
     "metadata": {},
     "output_type": "execute_result"
    }
   ],
   "source": [
    "(june_arppu - may_arppu)/may_arppu*100"
   ]
  },
  {
   "cell_type": "markdown",
   "metadata": {},
   "source": [
    "## Выводы:\n",
    "### 1. Коэф. удержания 7-го дня остался примерно прежним.\n",
    "### 2. Средний доход с 1-го платящего польщователя увеличился. Темп прироста составил 28,44%.\n",
    "### В целом, мы можем сказать об эффективности внедрения фичи. Однако увеличение средней выручки и неизменность коэф. текучести может говорить о том, что есть другие факторы, повлиявшие на такие результаты. Возможно, стоит попытаться получить данные, которые характеризуют именно использование ленты (нашей фичи)."
   ]
  }
 ],
 "metadata": {
  "kernelspec": {
   "display_name": "Python 3",
   "language": "python",
   "name": "python3"
  },
  "language_info": {
   "codemirror_mode": {
    "name": "ipython",
    "version": 3
   },
   "file_extension": ".py",
   "mimetype": "text/x-python",
   "name": "python",
   "nbconvert_exporter": "python",
   "pygments_lexer": "ipython3",
   "version": "3.8.5"
  }
 },
 "nbformat": 4,
 "nbformat_minor": 4
}
